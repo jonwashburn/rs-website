{
  "cells": [
    {
      "cell_type": "code",
      "execution_count": null,
      "metadata": {
        "vscode": {
          "languageId": "plaintext"
        }
      },
      "outputs": [],
      "source": [
        "# Mass Spectrum via RG + Gap Series\n",
        "\n",
        "Compute m_i = B_i · E_coh · φ^(r_i + f_i).\n",
        "\n",
        "Steps:\n",
        "- Input (B_i, r_i) from LNAL constructions.\n",
        "- Define μ* and run 2-loop SM RGEs.\n",
        "- Compute f_i = (1/ln φ) ∫ γ_i d ln μ + Σ g_m I_m(i).\n",
        "- Output masses and error budget.\n",
        "\n"
      ]
    },
    {
      "cell_type": "code",
      "execution_count": null,
      "metadata": {},
      "outputs": [],
      "source": [
        "# Scaffold for RG computation (placeholders)\n",
        "phi = (1+5**0.5)/2\n",
        "# TODO: implement RGEs or use external data; compute f_i\n",
        "\n"
      ]
    }
  ],
  "metadata": {
    "language_info": {
      "name": "python"
    }
  },
  "nbformat": 4,
  "nbformat_minor": 2
}
